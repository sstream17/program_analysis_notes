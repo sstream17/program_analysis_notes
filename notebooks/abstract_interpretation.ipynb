{
 "cells": [
  {
   "cell_type": "markdown",
   "metadata": {},
   "source": [
    "# Abstract Interpretation\n",
    "\n",
    "\n",
    "\n"
   ]
  },
  {
   "cell_type": "code",
   "execution_count": null,
   "metadata": {},
   "outputs": [],
   "source": []
  },
  {
   "cell_type": "markdown",
   "metadata": {},
   "source": [
    "## Zero/Odd/Even Natural Domain\n",
    "\n",
    "- Maps from concrete natural numbers to either {0, odd (nat), even (nat)} \n",
    "- Examples:  5 -> odd  , 4 ->  even ,  0 -> 0"
   ]
  },
  {
   "cell_type": "code",
   "execution_count": 13,
   "metadata": {},
   "outputs": [],
   "source": [
    "def foo(A,B):\n",
    "    x = A\n",
    "    y = B\n",
    "    z = 0\n",
    "    while x > 0:\n",
    "        if x % 2 == 1:\n",
    "            z = z + y \n",
    "        x = x // 2\n",
    "        y = y * 2;\n",
    "        \n",
    "    # What are the abstract vals of x,y,z  ?\n",
    "    return z\n"
   ]
  },
  {
   "cell_type": "markdown",
   "metadata": {},
   "source": [
    "- Let's try this with `A = 7, B = 3`\n",
    "    -  We get `x = 0, y = 24, z = 21` and thus `x = 0, y = even, z = odd`\n",
    "\n",
    "- How to do we obtain these abstract results directly?\n",
    "    - Case:  A = odd, B = odd\n",
    "        - Init: x = odd, y = odd, z = 0\n",
    "        - Iter 1:\n",
    "            - `odd(x)`:  x = $\\top$,  y = even, z = odd\n",
    "            - Q: why didn't we consider `even(x)`?\n",
    "            - `if loop done`:  x = 0, y = even, z = odd\n",
    "        - Iter 2:\n",
    "            - `odd(x)`:  x = $\\top$, y = even, z = odd\n",
    "            - `even(x)`: x = odd/even, y = even, z = odd\n",
    "            - `if loop is done`: x = 0, y = even, z = odd\n",
    "        - ...\n",
    "        - **Result**: x = 0, y = even, z = odd\n",
    "    - Case:  A = even, B = odd\n",
    "\n",
    "    "
   ]
  },
  {
   "cell_type": "markdown",
   "metadata": {},
   "source": [
    "| $>$|    |    |    | \n",
    "|:--:|:--:|:--:|:---:\n",
    "|    | 0  | odd| even\n",
    "|0   | f  | f  | f   \n",
    "|odd | t  | t/f| t/f \n",
    "|even| t  | t/f| t/f \n",
    "\n",
    "\n",
    "| $+$|    |    |    |\n",
    "|:--:|:--:|:--:|:---:\n",
    "|    | 0  | odd | even\n",
    "|0   | 0  | odd | even\n",
    "|odd | 0  | even| odd \n",
    "|even| 0  | odd | even\n",
    "\n"
   ]
  },
  {
   "cell_type": "code",
   "execution_count": null,
   "metadata": {},
   "outputs": [],
   "source": []
  }
 ],
 "metadata": {
  "kernelspec": {
   "display_name": "Python 3",
   "language": "python",
   "name": "python3"
  },
  "language_info": {
   "codemirror_mode": {
    "name": "ipython",
    "version": 3
   },
   "file_extension": ".py",
   "mimetype": "text/x-python",
   "name": "python",
   "nbconvert_exporter": "python",
   "pygments_lexer": "ipython3",
   "version": "3.7.4"
  }
 },
 "nbformat": 4,
 "nbformat_minor": 2
}
