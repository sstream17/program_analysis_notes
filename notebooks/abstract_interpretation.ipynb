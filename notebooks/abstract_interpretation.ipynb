{
 "cells": [
  {
   "cell_type": "markdown",
   "metadata": {
    "ein.tags": "worksheet-0",
    "slideshow": {
     "slide_type": "-"
    }
   },
   "source": [
    "# Abstract Interpretation\n",
    "\n",
    "To prove program correctness using *axiomatic semantics*, i.e., Hoare logic, we need to provide *loop invariants*, which as we have seen, can be a difficult and error-prone process.\n",
    "Thus, axiomatic semantics, while extremely powerful and used in many verification tools, e.g., Microsoft Dafny, is not an automatic, push-button approach.\n",
    "In addition, axiomatic semantic approach relies on checking validity of verification conditions.\n",
    "For complex programs, this checking process can be very expensive and in many cases not feasible.\n",
    "\n",
    "In this lecture, we will look at *abstract interpretation*, a verification approach that attempts to address the limiations of requiring loop invariants and expensive formula checkings.\n"
   ]
  },
  {
   "cell_type": "code",
   "execution_count": null,
   "metadata": {
    "autoscroll": false,
    "collapsed": false,
    "ein.hycell": false,
    "ein.tags": "worksheet-0",
    "slideshow": {
     "slide_type": "-"
    }
   },
   "outputs": [],
   "source": []
  },
  {
   "cell_type": "markdown",
   "metadata": {
    "ein.tags": "worksheet-0",
    "slideshow": {
     "slide_type": "-"
    }
   },
   "source": [
    "## Domain Example:  {Zero, Odd, Even} over Natural numbers\n",
    "\n",
    "\n",
    "- Maps from concrete natural numbers to either {0, odd (nat), even (nat)} \n",
    "- Examples:  5 -> odd  , 4 ->  even ,  0 -> 0"
   ]
  },
  {
   "cell_type": "code",
   "execution_count": 13,
   "metadata": {
    "autoscroll": false,
    "collapsed": false,
    "ein.hycell": false,
    "ein.tags": "worksheet-0",
    "slideshow": {
     "slide_type": "-"
    }
   },
   "outputs": [],
   "source": [
    "def mult(A,B):\n",
    "    // P = {A >= 0 and B >= 0}\n",
    "    x = A\n",
    "    y = B\n",
    "    z = 0\n",
    "    // L1\n",
    "    while x > 0:\n",
    "        if x % 2 == 1:\n",
    "            z = z + y \n",
    "        x = x // 2\n",
    "        y = y * 2;\n",
    "        // L2\n",
    "\n",
    "    #// L3\n",
    "    return z\n"
   ]
  },
  {
   "cell_type": "markdown",
   "metadata": {
    "ein.tags": "worksheet-0",
    "slideshow": {
     "slide_type": "-"
    }
   },
   "source": [
    "- Consider the `mult` example below that multiply two natural numbers $A, B$.  Our goal is to find, at the end of the program, at location `L3`, the values of $x, y, z$ using the abstract domains **{Zero, Odd, Even}** over natural numbers.\n",
    "\n",
    "\n",
    "- Case:  `A = odd, B = odd`\n",
    "\n",
    "|      |loc | x | y | z |\n",
    "|:---  |:--- |:---:|:---:|:---:|\n",
    "| Init                   | L1 | odd     | odd  | odd  |\n",
    "|Iter 1||||\n",
    "| begin |L2 | odd     | odd  | odd  |\n",
    "| case 1: x is odd  | L3 | $\\top$  | even | odd  |\n",
    "| case 2: x is even (not possible)|L3| $\\bot$| $\\bot$ | $\\bot$|\n",
    "| union of cases | L3 | $\\top$ | even | odd|\n",
    "| if loop exits| L4| 0 | even | odd |\n",
    "|Iter 2||||\n",
    "| begin |L2 | $\\top$     | even  | odd  |\n",
    "| case 1: x is odd  | L3 | $\\top$  | even | odd  |\n",
    "| case 2: x is even | L3| odd/even | even | odd |\n",
    "| union of cases | L3 | $\\top$ | even | odd|\n",
    "| if loop loop exits| L4| 0 | even | odd |\n",
    "|Iter 3: begin same as iter 2: fixed point||||\n",
    "| begin |L2 | $\\top$     | even  | odd  |\n",
    "|Final results |||\n",
    "| union of loop exits | L4 | 0 | even | odd\n",
    "\n",
    "\n",
    "    "
   ]
  },
  {
   "cell_type": "markdown",
   "metadata": {
    "ein.tags": "worksheet-0",
    "slideshow": {
     "slide_type": "-"
    }
   },
   "source": [
    "Abstract transformers\n",
    "\n",
    "| $>$|    |    |    | \n",
    "|:--:|:--:|:--:|:---:\n",
    "|    | 0  | odd| even\n",
    "|0   | f  | f  | f   \n",
    "|odd | t  | t/f| t/f \n",
    "|even| t  | t/f| t/f \n",
    "\n",
    "\n",
    "| $+$|    |    |    |\n",
    "|:--:|:--:|:--:|:---:\n",
    "|    | 0  | odd | even\n",
    "|0   | 0  | odd | even\n",
    "|odd | 0  | even| odd \n",
    "|even| 0  | odd | even\n",
    "\n"
   ]
  },
  {
   "cell_type": "markdown",
   "metadata": {
    "ein.tags": "worksheet-0",
    "slideshow": {
     "slide_type": "-"
    }
   },
   "source": [
    "Resources\n",
    "- http://www2.informatik.uni-freiburg.de/~heizmann/ProgramVerification/slides/20111025-Tue.pdf\n"
   ]
  }
 ],
 "metadata": {
  "kernelspec": {
   "argv": [
    "python",
    "-m",
    "ipykernel_launcher",
    "-f",
    "{connection_file}"
   ],
   "display_name": "Python 3",
   "env": null,
   "interrupt_mode": "signal",
   "language": "python",
   "metadata": null,
   "name": "python3"
  },
  "language_info": {
   "codemirror_mode": {
    "name": "ipython",
    "version": 3
   },
   "file_extension": ".py",
   "mimetype": "text/x-python",
   "name": "python",
   "nbconvert_exporter": "python",
   "pygments_lexer": "ipython3",
   "version": "3.7.4"
  },
  "name": "abstract_interpretation.ipynb"
 },
 "nbformat": 4,
 "nbformat_minor": 2
}
